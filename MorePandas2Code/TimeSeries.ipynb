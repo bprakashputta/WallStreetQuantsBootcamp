{
 "cells": [
  {
   "cell_type": "code",
   "execution_count": 1,
   "metadata": {},
   "outputs": [],
   "source": [
    "import pandas as pd \n",
    "import numpy as np \n",
    "\n",
    "dt = '20110107'\n",
    "dt = pd.to_datetime(dt)"
   ]
  },
  {
   "cell_type": "code",
   "execution_count": 2,
   "metadata": {},
   "outputs": [
    {
     "data": {
      "text/plain": [
       "Timestamp('2011-01-07 00:00:00')"
      ]
     },
     "execution_count": 2,
     "metadata": {},
     "output_type": "execute_result"
    }
   ],
   "source": [
    "dt"
   ]
  },
  {
   "cell_type": "code",
   "execution_count": 3,
   "metadata": {},
   "outputs": [
    {
     "data": {
      "text/plain": [
       "Timestamp('2011-01-07 00:00:00')"
      ]
     },
     "execution_count": 3,
     "metadata": {},
     "output_type": "execute_result"
    }
   ],
   "source": [
    "pd.to_datetime('2011-01-07')"
   ]
  },
  {
   "cell_type": "code",
   "execution_count": 4,
   "metadata": {
    "scrolled": true
   },
   "outputs": [
    {
     "name": "stdout",
     "output_type": "stream",
     "text": [
      "2011\n",
      "1\n",
      "7\n",
      "0\n",
      "0\n",
      "0\n"
     ]
    }
   ],
   "source": [
    "# get time fields\n",
    "print (dt.year)\n",
    "\n",
    "print (dt.month)\n",
    "\n",
    "print (dt.day)\n",
    "\n",
    "# maybe you care about price behavior on a particular hour, minute or second of the day?\n",
    "print (dt.hour)\n",
    "\n",
    "print (dt.minute)\n",
    "\n",
    "print (dt.second)"
   ]
  },
  {
   "cell_type": "code",
   "execution_count": 5,
   "metadata": {},
   "outputs": [
    {
     "data": {
      "text/plain": [
       "4"
      ]
     },
     "execution_count": 5,
     "metadata": {},
     "output_type": "execute_result"
    }
   ],
   "source": [
    "# useful for checking if weekend\n",
    "dt.weekday()"
   ]
  },
  {
   "cell_type": "code",
   "execution_count": 6,
   "metadata": {},
   "outputs": [
    {
     "data": {
      "text/plain": [
       "Timestamp('2011-01-07 12:10:30')"
      ]
     },
     "execution_count": 6,
     "metadata": {},
     "output_type": "execute_result"
    }
   ],
   "source": [
    "# handles hours/minute/seconds as well\n",
    "pd.to_datetime('20110107 12:10:30')"
   ]
  },
  {
   "cell_type": "code",
   "execution_count": 7,
   "metadata": {},
   "outputs": [
    {
     "data": {
      "text/plain": [
       "'20110107'"
      ]
     },
     "execution_count": 7,
     "metadata": {},
     "output_type": "execute_result"
    }
   ],
   "source": [
    "# convert back to a string\n",
    "dt.strftime('%Y%m%d')"
   ]
  },
  {
   "cell_type": "markdown",
   "metadata": {},
   "source": [
    "Check documentation for other string formatting codes: https://docs.python.org/3/library/datetime.html#strftime-and-strptime-behavior"
   ]
  },
  {
   "cell_type": "code",
   "execution_count": 8,
   "metadata": {},
   "outputs": [
    {
     "data": {
      "text/plain": [
       "Timestamp('2011-01-08 00:00:00')"
      ]
     },
     "execution_count": 8,
     "metadata": {},
     "output_type": "execute_result"
    }
   ],
   "source": [
    "# can shift dates\n",
    "dt + pd.tseries.offsets.Day()"
   ]
  },
  {
   "cell_type": "code",
   "execution_count": 9,
   "metadata": {},
   "outputs": [
    {
     "data": {
      "text/plain": [
       "Timestamp('2011-01-09 00:00:00')"
      ]
     },
     "execution_count": 9,
     "metadata": {},
     "output_type": "execute_result"
    }
   ],
   "source": [
    "# can shift by multiple time units\n",
    "dt + pd.tseries.offsets.Day(2)"
   ]
  },
  {
   "cell_type": "code",
   "execution_count": 10,
   "metadata": {},
   "outputs": [
    {
     "data": {
      "text/plain": [
       "Timestamp('2011-01-10 00:00:00')"
      ]
     },
     "execution_count": 10,
     "metadata": {},
     "output_type": "execute_result"
    }
   ],
   "source": [
    "# shift only by business day (skip weekends)\n",
    "dt + pd.tseries.offsets.BDay()"
   ]
  },
  {
   "cell_type": "code",
   "execution_count": 11,
   "metadata": {},
   "outputs": [
    {
     "name": "stdout",
     "output_type": "stream",
     "text": [
      "2011-01-31 00:00:00\n",
      "2010-12-31 00:00:00\n"
     ]
    }
   ],
   "source": [
    "# roll forward / backward\n",
    "print (pd.tseries.offsets.MonthEnd().rollforward(dt))\n",
    "print (pd.tseries.offsets.MonthEnd().rollback(dt))"
   ]
  },
  {
   "cell_type": "markdown",
   "metadata": {},
   "source": [
    "Check documentation for other offsets: https://pandas.pydata.org/docs/reference/offset_frequency.html"
   ]
  },
  {
   "cell_type": "code",
   "execution_count": 34,
   "metadata": {},
   "outputs": [
    {
     "name": "stdout",
     "output_type": "stream",
     "text": [
      "2011-01-01 00:00:00\n",
      "2012-06-30 00:00:00\n"
     ]
    },
    {
     "data": {
      "text/plain": [
       "Timedelta('546 days 00:00:00')"
      ]
     },
     "execution_count": 34,
     "metadata": {},
     "output_type": "execute_result"
    }
   ],
   "source": [
    "# subtract two times \n",
    "# maybe for checking days till next earnings?\n",
    "\n",
    "dt1 = pd.to_datetime('20110101')\n",
    "dt2 = pd.to_datetime('20120630')\n",
    "print(dt1)\n",
    "print(dt2)\n",
    "\n",
    "diff = dt2 - dt1\n",
    "diff "
   ]
  },
  {
   "cell_type": "code",
   "execution_count": 35,
   "metadata": {},
   "outputs": [
    {
     "data": {
      "text/plain": [
       "546"
      ]
     },
     "execution_count": 35,
     "metadata": {},
     "output_type": "execute_result"
    }
   ],
   "source": [
    "diff.days"
   ]
  },
  {
   "cell_type": "code",
   "execution_count": 36,
   "metadata": {},
   "outputs": [
    {
     "data": {
      "text/plain": [
       "Timedelta('546 days 00:00:00')"
      ]
     },
     "execution_count": 36,
     "metadata": {},
     "output_type": "execute_result"
    }
   ],
   "source": [
    "diff"
   ]
  },
  {
   "cell_type": "code",
   "execution_count": 37,
   "metadata": {},
   "outputs": [
    {
     "data": {
      "text/plain": [
       "DatetimeIndex(['2011-01-02', '2011-01-03', '2011-01-05'], dtype='datetime64[ns]', freq=None)"
      ]
     },
     "execution_count": 37,
     "metadata": {},
     "output_type": "execute_result"
    }
   ],
   "source": [
    "# faster way to create multiple timestamp objects. useful for converting excel dates from strings to timestamps\n",
    "date = ['20110102','20110103','20110105']\n",
    "dt_index = pd.DatetimeIndex(date)\n",
    "dt_index"
   ]
  },
  {
   "cell_type": "code",
   "execution_count": 38,
   "metadata": {},
   "outputs": [
    {
     "data": {
      "text/plain": [
       "Timestamp('2011-01-02 00:00:00')"
      ]
     },
     "execution_count": 38,
     "metadata": {},
     "output_type": "execute_result"
    }
   ],
   "source": [
    "dt_index[0]"
   ]
  },
  {
   "cell_type": "code",
   "execution_count": 39,
   "metadata": {},
   "outputs": [
    {
     "data": {
      "text/plain": [
       "DatetimeIndex(['2011-01-01', '2011-01-02', '2011-01-03', '2011-01-04',\n",
       "               '2011-01-05', '2011-01-06', '2011-01-07', '2011-01-08',\n",
       "               '2011-01-09', '2011-01-10',\n",
       "               ...\n",
       "               '2012-06-21', '2012-06-22', '2012-06-23', '2012-06-24',\n",
       "               '2012-06-25', '2012-06-26', '2012-06-27', '2012-06-28',\n",
       "               '2012-06-29', '2012-06-30'],\n",
       "              dtype='datetime64[ns]', length=547, freq='D')"
      ]
     },
     "execution_count": 39,
     "metadata": {},
     "output_type": "execute_result"
    }
   ],
   "source": [
    "## get time range \n",
    "days = pd.date_range(dt1,dt2,freq='D')\n",
    "days"
   ]
  },
  {
   "cell_type": "code",
   "execution_count": 49,
   "metadata": {},
   "outputs": [
    {
     "name": "stderr",
     "output_type": "stream",
     "text": [
      "/var/folders/1k/6tgzt4fj5lz2lfymwzmv_zb00000gn/T/ipykernel_28790/1540773202.py:2: FutureWarning: 'M' is deprecated and will be removed in a future version, please use 'ME' instead.\n",
      "  months = pd.date_range('20110101','20121231',freq='M')\n"
     ]
    },
    {
     "data": {
      "text/plain": [
       "DatetimeIndex(['2011-01-31', '2011-02-28', '2011-03-31', '2011-04-30',\n",
       "               '2011-05-31', '2011-06-30', '2011-07-31', '2011-08-31',\n",
       "               '2011-09-30', '2011-10-31', '2011-11-30', '2011-12-31',\n",
       "               '2012-01-31', '2012-02-29', '2012-03-31', '2012-04-30',\n",
       "               '2012-05-31', '2012-06-30', '2012-07-31', '2012-08-31',\n",
       "               '2012-09-30', '2012-10-31', '2012-11-30', '2012-12-31'],\n",
       "              dtype='datetime64[ns]', freq='ME')"
      ]
     },
     "execution_count": 49,
     "metadata": {},
     "output_type": "execute_result"
    }
   ],
   "source": [
    "# can use strings as inputs and also use monthly frequency\n",
    "months = pd.date_range('20110101','20121231',freq='M')\n",
    "months"
   ]
  },
  {
   "cell_type": "markdown",
   "metadata": {},
   "source": [
    "See documentation for other frequencies: https://pandas.pydata.org/docs/user_guide/timeseries.html#timeseries-offset-aliases"
   ]
  },
  {
   "cell_type": "code",
   "execution_count": 44,
   "metadata": {
    "scrolled": true
   },
   "outputs": [
    {
     "data": {
      "text/html": [
       "<div>\n",
       "<style scoped>\n",
       "    .dataframe tbody tr th:only-of-type {\n",
       "        vertical-align: middle;\n",
       "    }\n",
       "\n",
       "    .dataframe tbody tr th {\n",
       "        vertical-align: top;\n",
       "    }\n",
       "\n",
       "    .dataframe thead th {\n",
       "        text-align: right;\n",
       "    }\n",
       "</style>\n",
       "<table border=\"1\" class=\"dataframe\">\n",
       "  <thead>\n",
       "    <tr style=\"text-align: right;\">\n",
       "      <th></th>\n",
       "      <th>SPY</th>\n",
       "      <th>TLT</th>\n",
       "      <th>VXX</th>\n",
       "      <th>QQQ</th>\n",
       "    </tr>\n",
       "  </thead>\n",
       "  <tbody>\n",
       "    <tr>\n",
       "      <th>2019-01-01 00:00:00</th>\n",
       "      <td>1.618166</td>\n",
       "      <td>-2.738568</td>\n",
       "      <td>-1.630197</td>\n",
       "      <td>2.408701</td>\n",
       "    </tr>\n",
       "    <tr>\n",
       "      <th>2019-01-01 00:01:00</th>\n",
       "      <td>1.021112</td>\n",
       "      <td>-0.427073</td>\n",
       "      <td>0.529318</td>\n",
       "      <td>-0.771058</td>\n",
       "    </tr>\n",
       "    <tr>\n",
       "      <th>2019-01-01 00:02:00</th>\n",
       "      <td>-1.315814</td>\n",
       "      <td>-1.359258</td>\n",
       "      <td>-0.686280</td>\n",
       "      <td>-0.526976</td>\n",
       "    </tr>\n",
       "    <tr>\n",
       "      <th>2019-01-01 00:03:00</th>\n",
       "      <td>0.051565</td>\n",
       "      <td>0.190940</td>\n",
       "      <td>-1.661638</td>\n",
       "      <td>-0.879876</td>\n",
       "    </tr>\n",
       "    <tr>\n",
       "      <th>2019-01-01 00:04:00</th>\n",
       "      <td>-1.179026</td>\n",
       "      <td>-1.749931</td>\n",
       "      <td>0.752927</td>\n",
       "      <td>1.902366</td>\n",
       "    </tr>\n",
       "    <tr>\n",
       "      <th>...</th>\n",
       "      <td>...</td>\n",
       "      <td>...</td>\n",
       "      <td>...</td>\n",
       "      <td>...</td>\n",
       "    </tr>\n",
       "    <tr>\n",
       "      <th>2021-06-29 23:56:00</th>\n",
       "      <td>-0.437594</td>\n",
       "      <td>0.617012</td>\n",
       "      <td>0.159898</td>\n",
       "      <td>0.545339</td>\n",
       "    </tr>\n",
       "    <tr>\n",
       "      <th>2021-06-29 23:57:00</th>\n",
       "      <td>2.025051</td>\n",
       "      <td>-1.083892</td>\n",
       "      <td>-0.159526</td>\n",
       "      <td>0.884442</td>\n",
       "    </tr>\n",
       "    <tr>\n",
       "      <th>2021-06-29 23:58:00</th>\n",
       "      <td>-2.176453</td>\n",
       "      <td>-0.512629</td>\n",
       "      <td>-1.487678</td>\n",
       "      <td>0.734907</td>\n",
       "    </tr>\n",
       "    <tr>\n",
       "      <th>2021-06-29 23:59:00</th>\n",
       "      <td>-0.528031</td>\n",
       "      <td>-1.018049</td>\n",
       "      <td>0.124548</td>\n",
       "      <td>1.993652</td>\n",
       "    </tr>\n",
       "    <tr>\n",
       "      <th>2021-06-30 00:00:00</th>\n",
       "      <td>-0.873349</td>\n",
       "      <td>-1.619317</td>\n",
       "      <td>0.245100</td>\n",
       "      <td>-0.791413</td>\n",
       "    </tr>\n",
       "  </tbody>\n",
       "</table>\n",
       "<p>1311841 rows × 4 columns</p>\n",
       "</div>"
      ],
      "text/plain": [
       "                          SPY       TLT       VXX       QQQ\n",
       "2019-01-01 00:00:00  1.618166 -2.738568 -1.630197  2.408701\n",
       "2019-01-01 00:01:00  1.021112 -0.427073  0.529318 -0.771058\n",
       "2019-01-01 00:02:00 -1.315814 -1.359258 -0.686280 -0.526976\n",
       "2019-01-01 00:03:00  0.051565  0.190940 -1.661638 -0.879876\n",
       "2019-01-01 00:04:00 -1.179026 -1.749931  0.752927  1.902366\n",
       "...                       ...       ...       ...       ...\n",
       "2021-06-29 23:56:00 -0.437594  0.617012  0.159898  0.545339\n",
       "2021-06-29 23:57:00  2.025051 -1.083892 -0.159526  0.884442\n",
       "2021-06-29 23:58:00 -2.176453 -0.512629 -1.487678  0.734907\n",
       "2021-06-29 23:59:00 -0.528031 -1.018049  0.124548  1.993652\n",
       "2021-06-30 00:00:00 -0.873349 -1.619317  0.245100 -0.791413\n",
       "\n",
       "[1311841 rows x 4 columns]"
      ]
     },
     "execution_count": 44,
     "metadata": {},
     "output_type": "execute_result"
    }
   ],
   "source": [
    "## DataFrames with pandas datetime index \n",
    "univ = ['SPY','TLT','VXX','QQQ']\n",
    "days = pd.date_range('20190101','20210630',freq='min')\n",
    "df = pd.DataFrame(np.random.randn(len(days),len(univ)),index=days,columns=univ)\n",
    "df"
   ]
  },
  {
   "cell_type": "code",
   "execution_count": 50,
   "metadata": {},
   "outputs": [
    {
     "data": {
      "text/plain": [
       "SPY    1.618166\n",
       "TLT   -2.738568\n",
       "VXX   -1.630197\n",
       "QQQ    2.408701\n",
       "Name: 2019-01-01 00:00:00, dtype: float64"
      ]
     },
     "execution_count": 50,
     "metadata": {},
     "output_type": "execute_result"
    }
   ],
   "source": [
    "df.loc['2019-01-01 00:00:00']"
   ]
  },
  {
   "cell_type": "code",
   "execution_count": 51,
   "metadata": {},
   "outputs": [
    {
     "data": {
      "text/html": [
       "<div>\n",
       "<style scoped>\n",
       "    .dataframe tbody tr th:only-of-type {\n",
       "        vertical-align: middle;\n",
       "    }\n",
       "\n",
       "    .dataframe tbody tr th {\n",
       "        vertical-align: top;\n",
       "    }\n",
       "\n",
       "    .dataframe thead th {\n",
       "        text-align: right;\n",
       "    }\n",
       "</style>\n",
       "<table border=\"1\" class=\"dataframe\">\n",
       "  <thead>\n",
       "    <tr style=\"text-align: right;\">\n",
       "      <th></th>\n",
       "      <th>SPY</th>\n",
       "      <th>TLT</th>\n",
       "      <th>VXX</th>\n",
       "      <th>QQQ</th>\n",
       "    </tr>\n",
       "  </thead>\n",
       "  <tbody>\n",
       "    <tr>\n",
       "      <th>2019-01-01 00:00:00</th>\n",
       "      <td>1.618166</td>\n",
       "      <td>-2.738568</td>\n",
       "      <td>-1.630197</td>\n",
       "      <td>2.408701</td>\n",
       "    </tr>\n",
       "    <tr>\n",
       "      <th>2019-01-01 00:01:00</th>\n",
       "      <td>1.021112</td>\n",
       "      <td>-0.427073</td>\n",
       "      <td>0.529318</td>\n",
       "      <td>-0.771058</td>\n",
       "    </tr>\n",
       "    <tr>\n",
       "      <th>2019-01-01 00:02:00</th>\n",
       "      <td>-1.315814</td>\n",
       "      <td>-1.359258</td>\n",
       "      <td>-0.686280</td>\n",
       "      <td>-0.526976</td>\n",
       "    </tr>\n",
       "    <tr>\n",
       "      <th>2019-01-01 00:03:00</th>\n",
       "      <td>0.051565</td>\n",
       "      <td>0.190940</td>\n",
       "      <td>-1.661638</td>\n",
       "      <td>-0.879876</td>\n",
       "    </tr>\n",
       "    <tr>\n",
       "      <th>2019-01-01 00:04:00</th>\n",
       "      <td>-1.179026</td>\n",
       "      <td>-1.749931</td>\n",
       "      <td>0.752927</td>\n",
       "      <td>1.902366</td>\n",
       "    </tr>\n",
       "    <tr>\n",
       "      <th>...</th>\n",
       "      <td>...</td>\n",
       "      <td>...</td>\n",
       "      <td>...</td>\n",
       "      <td>...</td>\n",
       "    </tr>\n",
       "    <tr>\n",
       "      <th>2019-01-01 23:55:00</th>\n",
       "      <td>-1.238921</td>\n",
       "      <td>-0.537953</td>\n",
       "      <td>1.112248</td>\n",
       "      <td>0.564175</td>\n",
       "    </tr>\n",
       "    <tr>\n",
       "      <th>2019-01-01 23:56:00</th>\n",
       "      <td>-0.067810</td>\n",
       "      <td>0.274642</td>\n",
       "      <td>-1.073771</td>\n",
       "      <td>0.651298</td>\n",
       "    </tr>\n",
       "    <tr>\n",
       "      <th>2019-01-01 23:57:00</th>\n",
       "      <td>0.885956</td>\n",
       "      <td>-0.293423</td>\n",
       "      <td>0.697448</td>\n",
       "      <td>0.535240</td>\n",
       "    </tr>\n",
       "    <tr>\n",
       "      <th>2019-01-01 23:58:00</th>\n",
       "      <td>0.284411</td>\n",
       "      <td>1.021089</td>\n",
       "      <td>-1.007168</td>\n",
       "      <td>-1.551924</td>\n",
       "    </tr>\n",
       "    <tr>\n",
       "      <th>2019-01-01 23:59:00</th>\n",
       "      <td>-0.328012</td>\n",
       "      <td>-1.124198</td>\n",
       "      <td>0.535005</td>\n",
       "      <td>0.408591</td>\n",
       "    </tr>\n",
       "  </tbody>\n",
       "</table>\n",
       "<p>1440 rows × 4 columns</p>\n",
       "</div>"
      ],
      "text/plain": [
       "                          SPY       TLT       VXX       QQQ\n",
       "2019-01-01 00:00:00  1.618166 -2.738568 -1.630197  2.408701\n",
       "2019-01-01 00:01:00  1.021112 -0.427073  0.529318 -0.771058\n",
       "2019-01-01 00:02:00 -1.315814 -1.359258 -0.686280 -0.526976\n",
       "2019-01-01 00:03:00  0.051565  0.190940 -1.661638 -0.879876\n",
       "2019-01-01 00:04:00 -1.179026 -1.749931  0.752927  1.902366\n",
       "...                       ...       ...       ...       ...\n",
       "2019-01-01 23:55:00 -1.238921 -0.537953  1.112248  0.564175\n",
       "2019-01-01 23:56:00 -0.067810  0.274642 -1.073771  0.651298\n",
       "2019-01-01 23:57:00  0.885956 -0.293423  0.697448  0.535240\n",
       "2019-01-01 23:58:00  0.284411  1.021089 -1.007168 -1.551924\n",
       "2019-01-01 23:59:00 -0.328012 -1.124198  0.535005  0.408591\n",
       "\n",
       "[1440 rows x 4 columns]"
      ]
     },
     "execution_count": 51,
     "metadata": {},
     "output_type": "execute_result"
    }
   ],
   "source": [
    "df.loc['2019-01-01']"
   ]
  },
  {
   "cell_type": "code",
   "execution_count": 52,
   "metadata": {},
   "outputs": [
    {
     "name": "stderr",
     "output_type": "stream",
     "text": [
      "/var/folders/1k/6tgzt4fj5lz2lfymwzmv_zb00000gn/T/ipykernel_28790/3731312487.py:1: FutureWarning: 'M' is deprecated and will be removed in a future version, please use 'ME' instead.\n",
      "  df.resample('M').sum()\n"
     ]
    },
    {
     "data": {
      "text/html": [
       "<div>\n",
       "<style scoped>\n",
       "    .dataframe tbody tr th:only-of-type {\n",
       "        vertical-align: middle;\n",
       "    }\n",
       "\n",
       "    .dataframe tbody tr th {\n",
       "        vertical-align: top;\n",
       "    }\n",
       "\n",
       "    .dataframe thead th {\n",
       "        text-align: right;\n",
       "    }\n",
       "</style>\n",
       "<table border=\"1\" class=\"dataframe\">\n",
       "  <thead>\n",
       "    <tr style=\"text-align: right;\">\n",
       "      <th></th>\n",
       "      <th>SPY</th>\n",
       "      <th>TLT</th>\n",
       "      <th>VXX</th>\n",
       "      <th>QQQ</th>\n",
       "    </tr>\n",
       "  </thead>\n",
       "  <tbody>\n",
       "    <tr>\n",
       "      <th>2019-01-31</th>\n",
       "      <td>-63.241247</td>\n",
       "      <td>57.831485</td>\n",
       "      <td>-111.641882</td>\n",
       "      <td>-180.020662</td>\n",
       "    </tr>\n",
       "    <tr>\n",
       "      <th>2019-02-28</th>\n",
       "      <td>140.365287</td>\n",
       "      <td>278.066317</td>\n",
       "      <td>36.835114</td>\n",
       "      <td>-235.893329</td>\n",
       "    </tr>\n",
       "    <tr>\n",
       "      <th>2019-03-31</th>\n",
       "      <td>-149.170851</td>\n",
       "      <td>-108.832634</td>\n",
       "      <td>-433.966931</td>\n",
       "      <td>-199.669144</td>\n",
       "    </tr>\n",
       "    <tr>\n",
       "      <th>2019-04-30</th>\n",
       "      <td>-411.397929</td>\n",
       "      <td>175.323039</td>\n",
       "      <td>191.660174</td>\n",
       "      <td>19.167235</td>\n",
       "    </tr>\n",
       "    <tr>\n",
       "      <th>2019-05-31</th>\n",
       "      <td>96.227681</td>\n",
       "      <td>111.844991</td>\n",
       "      <td>223.332092</td>\n",
       "      <td>353.886383</td>\n",
       "    </tr>\n",
       "    <tr>\n",
       "      <th>2019-06-30</th>\n",
       "      <td>262.604177</td>\n",
       "      <td>-34.240613</td>\n",
       "      <td>173.967995</td>\n",
       "      <td>-249.082876</td>\n",
       "    </tr>\n",
       "    <tr>\n",
       "      <th>2019-07-31</th>\n",
       "      <td>-273.993472</td>\n",
       "      <td>131.772968</td>\n",
       "      <td>64.050259</td>\n",
       "      <td>67.028133</td>\n",
       "    </tr>\n",
       "    <tr>\n",
       "      <th>2019-08-31</th>\n",
       "      <td>485.367442</td>\n",
       "      <td>-501.820647</td>\n",
       "      <td>-34.762681</td>\n",
       "      <td>244.212730</td>\n",
       "    </tr>\n",
       "    <tr>\n",
       "      <th>2019-09-30</th>\n",
       "      <td>443.465297</td>\n",
       "      <td>6.844091</td>\n",
       "      <td>231.772454</td>\n",
       "      <td>-114.715207</td>\n",
       "    </tr>\n",
       "    <tr>\n",
       "      <th>2019-10-31</th>\n",
       "      <td>-211.695130</td>\n",
       "      <td>74.229901</td>\n",
       "      <td>-281.354789</td>\n",
       "      <td>-112.294739</td>\n",
       "    </tr>\n",
       "    <tr>\n",
       "      <th>2019-11-30</th>\n",
       "      <td>45.487571</td>\n",
       "      <td>-83.716013</td>\n",
       "      <td>279.806891</td>\n",
       "      <td>102.415539</td>\n",
       "    </tr>\n",
       "    <tr>\n",
       "      <th>2019-12-31</th>\n",
       "      <td>60.131853</td>\n",
       "      <td>-75.359547</td>\n",
       "      <td>129.453706</td>\n",
       "      <td>-101.306013</td>\n",
       "    </tr>\n",
       "    <tr>\n",
       "      <th>2020-01-31</th>\n",
       "      <td>-21.693693</td>\n",
       "      <td>-217.597006</td>\n",
       "      <td>-155.839780</td>\n",
       "      <td>96.323120</td>\n",
       "    </tr>\n",
       "    <tr>\n",
       "      <th>2020-02-29</th>\n",
       "      <td>-227.609935</td>\n",
       "      <td>107.382600</td>\n",
       "      <td>126.558562</td>\n",
       "      <td>32.846473</td>\n",
       "    </tr>\n",
       "    <tr>\n",
       "      <th>2020-03-31</th>\n",
       "      <td>-26.286115</td>\n",
       "      <td>-5.061979</td>\n",
       "      <td>303.408553</td>\n",
       "      <td>-206.732757</td>\n",
       "    </tr>\n",
       "    <tr>\n",
       "      <th>2020-04-30</th>\n",
       "      <td>484.517708</td>\n",
       "      <td>350.769320</td>\n",
       "      <td>-77.569534</td>\n",
       "      <td>68.286941</td>\n",
       "    </tr>\n",
       "    <tr>\n",
       "      <th>2020-05-31</th>\n",
       "      <td>-163.741725</td>\n",
       "      <td>-167.870193</td>\n",
       "      <td>0.895216</td>\n",
       "      <td>-162.767036</td>\n",
       "    </tr>\n",
       "    <tr>\n",
       "      <th>2020-06-30</th>\n",
       "      <td>-356.326133</td>\n",
       "      <td>-144.719175</td>\n",
       "      <td>-21.184393</td>\n",
       "      <td>357.672100</td>\n",
       "    </tr>\n",
       "    <tr>\n",
       "      <th>2020-07-31</th>\n",
       "      <td>-181.878001</td>\n",
       "      <td>201.441897</td>\n",
       "      <td>80.314412</td>\n",
       "      <td>-316.231597</td>\n",
       "    </tr>\n",
       "    <tr>\n",
       "      <th>2020-08-31</th>\n",
       "      <td>133.012559</td>\n",
       "      <td>-94.884541</td>\n",
       "      <td>119.284818</td>\n",
       "      <td>-118.681153</td>\n",
       "    </tr>\n",
       "    <tr>\n",
       "      <th>2020-09-30</th>\n",
       "      <td>-341.586220</td>\n",
       "      <td>-155.419961</td>\n",
       "      <td>184.353459</td>\n",
       "      <td>-89.657117</td>\n",
       "    </tr>\n",
       "    <tr>\n",
       "      <th>2020-10-31</th>\n",
       "      <td>-43.691006</td>\n",
       "      <td>69.758009</td>\n",
       "      <td>40.787971</td>\n",
       "      <td>7.036741</td>\n",
       "    </tr>\n",
       "    <tr>\n",
       "      <th>2020-11-30</th>\n",
       "      <td>-34.865743</td>\n",
       "      <td>2.724912</td>\n",
       "      <td>62.093773</td>\n",
       "      <td>-78.295652</td>\n",
       "    </tr>\n",
       "    <tr>\n",
       "      <th>2020-12-31</th>\n",
       "      <td>127.663225</td>\n",
       "      <td>45.574589</td>\n",
       "      <td>136.074391</td>\n",
       "      <td>-3.600125</td>\n",
       "    </tr>\n",
       "    <tr>\n",
       "      <th>2021-01-31</th>\n",
       "      <td>-105.288080</td>\n",
       "      <td>-416.844375</td>\n",
       "      <td>-481.386168</td>\n",
       "      <td>-7.470448</td>\n",
       "    </tr>\n",
       "    <tr>\n",
       "      <th>2021-02-28</th>\n",
       "      <td>134.275523</td>\n",
       "      <td>-70.019798</td>\n",
       "      <td>-41.650169</td>\n",
       "      <td>-166.940965</td>\n",
       "    </tr>\n",
       "    <tr>\n",
       "      <th>2021-03-31</th>\n",
       "      <td>-160.212009</td>\n",
       "      <td>-3.190612</td>\n",
       "      <td>-152.489676</td>\n",
       "      <td>58.783453</td>\n",
       "    </tr>\n",
       "    <tr>\n",
       "      <th>2021-04-30</th>\n",
       "      <td>50.017653</td>\n",
       "      <td>-109.474742</td>\n",
       "      <td>-73.964814</td>\n",
       "      <td>43.621106</td>\n",
       "    </tr>\n",
       "    <tr>\n",
       "      <th>2021-05-31</th>\n",
       "      <td>117.568650</td>\n",
       "      <td>88.997266</td>\n",
       "      <td>-85.659093</td>\n",
       "      <td>-95.978896</td>\n",
       "    </tr>\n",
       "    <tr>\n",
       "      <th>2021-06-30</th>\n",
       "      <td>17.766741</td>\n",
       "      <td>0.574395</td>\n",
       "      <td>164.703771</td>\n",
       "      <td>-219.607799</td>\n",
       "    </tr>\n",
       "  </tbody>\n",
       "</table>\n",
       "</div>"
      ],
      "text/plain": [
       "                   SPY         TLT         VXX         QQQ\n",
       "2019-01-31  -63.241247   57.831485 -111.641882 -180.020662\n",
       "2019-02-28  140.365287  278.066317   36.835114 -235.893329\n",
       "2019-03-31 -149.170851 -108.832634 -433.966931 -199.669144\n",
       "2019-04-30 -411.397929  175.323039  191.660174   19.167235\n",
       "2019-05-31   96.227681  111.844991  223.332092  353.886383\n",
       "2019-06-30  262.604177  -34.240613  173.967995 -249.082876\n",
       "2019-07-31 -273.993472  131.772968   64.050259   67.028133\n",
       "2019-08-31  485.367442 -501.820647  -34.762681  244.212730\n",
       "2019-09-30  443.465297    6.844091  231.772454 -114.715207\n",
       "2019-10-31 -211.695130   74.229901 -281.354789 -112.294739\n",
       "2019-11-30   45.487571  -83.716013  279.806891  102.415539\n",
       "2019-12-31   60.131853  -75.359547  129.453706 -101.306013\n",
       "2020-01-31  -21.693693 -217.597006 -155.839780   96.323120\n",
       "2020-02-29 -227.609935  107.382600  126.558562   32.846473\n",
       "2020-03-31  -26.286115   -5.061979  303.408553 -206.732757\n",
       "2020-04-30  484.517708  350.769320  -77.569534   68.286941\n",
       "2020-05-31 -163.741725 -167.870193    0.895216 -162.767036\n",
       "2020-06-30 -356.326133 -144.719175  -21.184393  357.672100\n",
       "2020-07-31 -181.878001  201.441897   80.314412 -316.231597\n",
       "2020-08-31  133.012559  -94.884541  119.284818 -118.681153\n",
       "2020-09-30 -341.586220 -155.419961  184.353459  -89.657117\n",
       "2020-10-31  -43.691006   69.758009   40.787971    7.036741\n",
       "2020-11-30  -34.865743    2.724912   62.093773  -78.295652\n",
       "2020-12-31  127.663225   45.574589  136.074391   -3.600125\n",
       "2021-01-31 -105.288080 -416.844375 -481.386168   -7.470448\n",
       "2021-02-28  134.275523  -70.019798  -41.650169 -166.940965\n",
       "2021-03-31 -160.212009   -3.190612 -152.489676   58.783453\n",
       "2021-04-30   50.017653 -109.474742  -73.964814   43.621106\n",
       "2021-05-31  117.568650   88.997266  -85.659093  -95.978896\n",
       "2021-06-30   17.766741    0.574395  164.703771 -219.607799"
      ]
     },
     "execution_count": 52,
     "metadata": {},
     "output_type": "execute_result"
    }
   ],
   "source": [
    "df.resample('M').sum()"
   ]
  },
  {
   "cell_type": "code",
   "execution_count": 53,
   "metadata": {},
   "outputs": [
    {
     "data": {
      "text/html": [
       "<div>\n",
       "<style scoped>\n",
       "    .dataframe tbody tr th:only-of-type {\n",
       "        vertical-align: middle;\n",
       "    }\n",
       "\n",
       "    .dataframe tbody tr th {\n",
       "        vertical-align: top;\n",
       "    }\n",
       "\n",
       "    .dataframe thead th {\n",
       "        text-align: right;\n",
       "    }\n",
       "</style>\n",
       "<table border=\"1\" class=\"dataframe\">\n",
       "  <thead>\n",
       "    <tr style=\"text-align: right;\">\n",
       "      <th></th>\n",
       "      <th>SPY</th>\n",
       "      <th>TLT</th>\n",
       "      <th>VXX</th>\n",
       "      <th>QQQ</th>\n",
       "    </tr>\n",
       "  </thead>\n",
       "  <tbody>\n",
       "    <tr>\n",
       "      <th>2019-01-01 00:00:00</th>\n",
       "      <td>1.618166</td>\n",
       "      <td>0.190940</td>\n",
       "      <td>0.752927</td>\n",
       "      <td>2.408701</td>\n",
       "    </tr>\n",
       "    <tr>\n",
       "      <th>2019-01-01 00:05:00</th>\n",
       "      <td>1.950695</td>\n",
       "      <td>1.932127</td>\n",
       "      <td>1.592176</td>\n",
       "      <td>1.876271</td>\n",
       "    </tr>\n",
       "    <tr>\n",
       "      <th>2019-01-01 00:10:00</th>\n",
       "      <td>2.460919</td>\n",
       "      <td>1.937586</td>\n",
       "      <td>0.786979</td>\n",
       "      <td>0.963111</td>\n",
       "    </tr>\n",
       "    <tr>\n",
       "      <th>2019-01-01 00:15:00</th>\n",
       "      <td>1.463353</td>\n",
       "      <td>0.870690</td>\n",
       "      <td>1.202587</td>\n",
       "      <td>0.850782</td>\n",
       "    </tr>\n",
       "    <tr>\n",
       "      <th>2019-01-01 00:20:00</th>\n",
       "      <td>0.428156</td>\n",
       "      <td>1.376779</td>\n",
       "      <td>0.637806</td>\n",
       "      <td>2.702120</td>\n",
       "    </tr>\n",
       "    <tr>\n",
       "      <th>...</th>\n",
       "      <td>...</td>\n",
       "      <td>...</td>\n",
       "      <td>...</td>\n",
       "      <td>...</td>\n",
       "    </tr>\n",
       "    <tr>\n",
       "      <th>2021-06-29 23:40:00</th>\n",
       "      <td>1.981675</td>\n",
       "      <td>1.329879</td>\n",
       "      <td>1.304437</td>\n",
       "      <td>0.095754</td>\n",
       "    </tr>\n",
       "    <tr>\n",
       "      <th>2021-06-29 23:45:00</th>\n",
       "      <td>2.322226</td>\n",
       "      <td>1.554655</td>\n",
       "      <td>1.652049</td>\n",
       "      <td>1.936296</td>\n",
       "    </tr>\n",
       "    <tr>\n",
       "      <th>2021-06-29 23:50:00</th>\n",
       "      <td>3.189520</td>\n",
       "      <td>1.085600</td>\n",
       "      <td>2.466998</td>\n",
       "      <td>0.715054</td>\n",
       "    </tr>\n",
       "    <tr>\n",
       "      <th>2021-06-29 23:55:00</th>\n",
       "      <td>2.188835</td>\n",
       "      <td>0.651735</td>\n",
       "      <td>1.163902</td>\n",
       "      <td>1.993652</td>\n",
       "    </tr>\n",
       "    <tr>\n",
       "      <th>2021-06-30 00:00:00</th>\n",
       "      <td>-0.873349</td>\n",
       "      <td>-1.619317</td>\n",
       "      <td>0.245100</td>\n",
       "      <td>-0.791413</td>\n",
       "    </tr>\n",
       "  </tbody>\n",
       "</table>\n",
       "<p>262369 rows × 4 columns</p>\n",
       "</div>"
      ],
      "text/plain": [
       "                          SPY       TLT       VXX       QQQ\n",
       "2019-01-01 00:00:00  1.618166  0.190940  0.752927  2.408701\n",
       "2019-01-01 00:05:00  1.950695  1.932127  1.592176  1.876271\n",
       "2019-01-01 00:10:00  2.460919  1.937586  0.786979  0.963111\n",
       "2019-01-01 00:15:00  1.463353  0.870690  1.202587  0.850782\n",
       "2019-01-01 00:20:00  0.428156  1.376779  0.637806  2.702120\n",
       "...                       ...       ...       ...       ...\n",
       "2021-06-29 23:40:00  1.981675  1.329879  1.304437  0.095754\n",
       "2021-06-29 23:45:00  2.322226  1.554655  1.652049  1.936296\n",
       "2021-06-29 23:50:00  3.189520  1.085600  2.466998  0.715054\n",
       "2021-06-29 23:55:00  2.188835  0.651735  1.163902  1.993652\n",
       "2021-06-30 00:00:00 -0.873349 -1.619317  0.245100 -0.791413\n",
       "\n",
       "[262369 rows x 4 columns]"
      ]
     },
     "execution_count": 53,
     "metadata": {},
     "output_type": "execute_result"
    }
   ],
   "source": [
    "# 5 minute high \n",
    "df.resample('5min').max()"
   ]
  },
  {
   "cell_type": "code",
   "execution_count": 54,
   "metadata": {},
   "outputs": [
    {
     "data": {
      "text/html": [
       "<div>\n",
       "<style scoped>\n",
       "    .dataframe tbody tr th:only-of-type {\n",
       "        vertical-align: middle;\n",
       "    }\n",
       "\n",
       "    .dataframe tbody tr th {\n",
       "        vertical-align: top;\n",
       "    }\n",
       "\n",
       "    .dataframe thead th {\n",
       "        text-align: right;\n",
       "    }\n",
       "</style>\n",
       "<table border=\"1\" class=\"dataframe\">\n",
       "  <thead>\n",
       "    <tr style=\"text-align: right;\">\n",
       "      <th></th>\n",
       "      <th>SPY</th>\n",
       "      <th>TLT</th>\n",
       "      <th>VXX</th>\n",
       "      <th>QQQ</th>\n",
       "    </tr>\n",
       "  </thead>\n",
       "  <tbody>\n",
       "    <tr>\n",
       "      <th>2019-01-01 00:00:00</th>\n",
       "      <td>-1.179026</td>\n",
       "      <td>-1.749931</td>\n",
       "      <td>0.752927</td>\n",
       "      <td>1.902366</td>\n",
       "    </tr>\n",
       "    <tr>\n",
       "      <th>2019-01-01 00:05:00</th>\n",
       "      <td>1.488540</td>\n",
       "      <td>0.881002</td>\n",
       "      <td>-0.857759</td>\n",
       "      <td>-0.733317</td>\n",
       "    </tr>\n",
       "    <tr>\n",
       "      <th>2019-01-01 00:10:00</th>\n",
       "      <td>1.046961</td>\n",
       "      <td>-1.236226</td>\n",
       "      <td>0.458063</td>\n",
       "      <td>-1.572681</td>\n",
       "    </tr>\n",
       "    <tr>\n",
       "      <th>2019-01-01 00:15:00</th>\n",
       "      <td>-1.133360</td>\n",
       "      <td>-0.490527</td>\n",
       "      <td>0.034679</td>\n",
       "      <td>-0.150706</td>\n",
       "    </tr>\n",
       "    <tr>\n",
       "      <th>2019-01-01 00:20:00</th>\n",
       "      <td>-0.441571</td>\n",
       "      <td>-0.250846</td>\n",
       "      <td>0.637806</td>\n",
       "      <td>-0.829735</td>\n",
       "    </tr>\n",
       "    <tr>\n",
       "      <th>...</th>\n",
       "      <td>...</td>\n",
       "      <td>...</td>\n",
       "      <td>...</td>\n",
       "      <td>...</td>\n",
       "    </tr>\n",
       "    <tr>\n",
       "      <th>2021-06-29 23:40:00</th>\n",
       "      <td>0.092104</td>\n",
       "      <td>-0.259391</td>\n",
       "      <td>-1.132514</td>\n",
       "      <td>0.095754</td>\n",
       "    </tr>\n",
       "    <tr>\n",
       "      <th>2021-06-29 23:45:00</th>\n",
       "      <td>0.421597</td>\n",
       "      <td>1.554655</td>\n",
       "      <td>-1.201277</td>\n",
       "      <td>1.936296</td>\n",
       "    </tr>\n",
       "    <tr>\n",
       "      <th>2021-06-29 23:50:00</th>\n",
       "      <td>0.969531</td>\n",
       "      <td>-1.688555</td>\n",
       "      <td>-0.380536</td>\n",
       "      <td>0.222917</td>\n",
       "    </tr>\n",
       "    <tr>\n",
       "      <th>2021-06-29 23:55:00</th>\n",
       "      <td>-0.528031</td>\n",
       "      <td>-1.018049</td>\n",
       "      <td>0.124548</td>\n",
       "      <td>1.993652</td>\n",
       "    </tr>\n",
       "    <tr>\n",
       "      <th>2021-06-30 00:00:00</th>\n",
       "      <td>-0.873349</td>\n",
       "      <td>-1.619317</td>\n",
       "      <td>0.245100</td>\n",
       "      <td>-0.791413</td>\n",
       "    </tr>\n",
       "  </tbody>\n",
       "</table>\n",
       "<p>262369 rows × 4 columns</p>\n",
       "</div>"
      ],
      "text/plain": [
       "                          SPY       TLT       VXX       QQQ\n",
       "2019-01-01 00:00:00 -1.179026 -1.749931  0.752927  1.902366\n",
       "2019-01-01 00:05:00  1.488540  0.881002 -0.857759 -0.733317\n",
       "2019-01-01 00:10:00  1.046961 -1.236226  0.458063 -1.572681\n",
       "2019-01-01 00:15:00 -1.133360 -0.490527  0.034679 -0.150706\n",
       "2019-01-01 00:20:00 -0.441571 -0.250846  0.637806 -0.829735\n",
       "...                       ...       ...       ...       ...\n",
       "2021-06-29 23:40:00  0.092104 -0.259391 -1.132514  0.095754\n",
       "2021-06-29 23:45:00  0.421597  1.554655 -1.201277  1.936296\n",
       "2021-06-29 23:50:00  0.969531 -1.688555 -0.380536  0.222917\n",
       "2021-06-29 23:55:00 -0.528031 -1.018049  0.124548  1.993652\n",
       "2021-06-30 00:00:00 -0.873349 -1.619317  0.245100 -0.791413\n",
       "\n",
       "[262369 rows x 4 columns]"
      ]
     },
     "execution_count": 54,
     "metadata": {},
     "output_type": "execute_result"
    }
   ],
   "source": [
    "# close\n",
    "df.resample('5min').last()"
   ]
  },
  {
   "cell_type": "markdown",
   "metadata": {},
   "source": [
    "Again, refer to documentation for how to specify the frequencies: https://pandas.pydata.org/docs/user_guide/timeseries.html#timeseries-offset-aliases\n",
    "\n",
    "\n",
    "Many other topics on time series in pandas not covered here!"
   ]
  }
 ],
 "metadata": {
  "kernelspec": {
   "display_name": "Python 3",
   "language": "python",
   "name": "python3"
  },
  "language_info": {
   "codemirror_mode": {
    "name": "ipython",
    "version": 3
   },
   "file_extension": ".py",
   "mimetype": "text/x-python",
   "name": "python",
   "nbconvert_exporter": "python",
   "pygments_lexer": "ipython3",
   "version": "3.12.6"
  }
 },
 "nbformat": 4,
 "nbformat_minor": 4
}

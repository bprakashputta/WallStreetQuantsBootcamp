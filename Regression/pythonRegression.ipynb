{
 "cells": [
  {
   "cell_type": "markdown",
   "metadata": {},
   "source": [
    "# Regression Using StatsModels\n",
    "\n",
    "- Run a regression to find beta and alpha of FB to TSLA\n",
    "- FB<sub>t</sub> ~ $\\beta$ * TSLA<sub>t</sub> + $\\alpha$ + e<sub>t</sub>"
   ]
  },
  {
   "cell_type": "code",
   "execution_count": 36,
   "metadata": {},
   "outputs": [],
   "source": [
    "import statsmodels.api as sm\n",
    "import pandas as pd\n",
    "import numpy as np\n",
    "import yfinance as yf"
   ]
  },
  {
   "cell_type": "code",
   "execution_count": 37,
   "metadata": {},
   "outputs": [
    {
     "name": "stderr",
     "output_type": "stream",
     "text": [
      "[*********************100%***********************]  2 of 2 completed\n"
     ]
    }
   ],
   "source": [
    "tickers = ['META','TSLA']\n",
    "px = yf.download(tickers, start='2016-01-01')['Adj Close']"
   ]
  },
  {
   "cell_type": "code",
   "execution_count": 38,
   "metadata": {},
   "outputs": [
    {
     "data": {
      "text/html": [
       "<div>\n",
       "<style scoped>\n",
       "    .dataframe tbody tr th:only-of-type {\n",
       "        vertical-align: middle;\n",
       "    }\n",
       "\n",
       "    .dataframe tbody tr th {\n",
       "        vertical-align: top;\n",
       "    }\n",
       "\n",
       "    .dataframe thead th {\n",
       "        text-align: right;\n",
       "    }\n",
       "</style>\n",
       "<table border=\"1\" class=\"dataframe\">\n",
       "  <thead>\n",
       "    <tr style=\"text-align: right;\">\n",
       "      <th>Ticker</th>\n",
       "      <th>META</th>\n",
       "      <th>TSLA</th>\n",
       "    </tr>\n",
       "    <tr>\n",
       "      <th>Date</th>\n",
       "      <th></th>\n",
       "      <th></th>\n",
       "    </tr>\n",
       "  </thead>\n",
       "  <tbody>\n",
       "    <tr>\n",
       "      <th>2025-01-14 00:00:00+00:00</th>\n",
       "      <td>594.250000</td>\n",
       "      <td>396.359985</td>\n",
       "    </tr>\n",
       "    <tr>\n",
       "      <th>2025-01-15 00:00:00+00:00</th>\n",
       "      <td>617.119995</td>\n",
       "      <td>428.220001</td>\n",
       "    </tr>\n",
       "    <tr>\n",
       "      <th>2025-01-16 00:00:00+00:00</th>\n",
       "      <td>611.299988</td>\n",
       "      <td>413.820007</td>\n",
       "    </tr>\n",
       "    <tr>\n",
       "      <th>2025-01-17 00:00:00+00:00</th>\n",
       "      <td>612.770020</td>\n",
       "      <td>426.500000</td>\n",
       "    </tr>\n",
       "    <tr>\n",
       "      <th>2025-01-21 00:00:00+00:00</th>\n",
       "      <td>616.460022</td>\n",
       "      <td>424.070007</td>\n",
       "    </tr>\n",
       "  </tbody>\n",
       "</table>\n",
       "</div>"
      ],
      "text/plain": [
       "Ticker                           META        TSLA\n",
       "Date                                             \n",
       "2025-01-14 00:00:00+00:00  594.250000  396.359985\n",
       "2025-01-15 00:00:00+00:00  617.119995  428.220001\n",
       "2025-01-16 00:00:00+00:00  611.299988  413.820007\n",
       "2025-01-17 00:00:00+00:00  612.770020  426.500000\n",
       "2025-01-21 00:00:00+00:00  616.460022  424.070007"
      ]
     },
     "execution_count": 38,
     "metadata": {},
     "output_type": "execute_result"
    }
   ],
   "source": [
    "px.tail()"
   ]
  },
  {
   "cell_type": "code",
   "execution_count": 39,
   "metadata": {},
   "outputs": [
    {
     "data": {
      "text/html": [
       "<div>\n",
       "<style scoped>\n",
       "    .dataframe tbody tr th:only-of-type {\n",
       "        vertical-align: middle;\n",
       "    }\n",
       "\n",
       "    .dataframe tbody tr th {\n",
       "        vertical-align: top;\n",
       "    }\n",
       "\n",
       "    .dataframe thead th {\n",
       "        text-align: right;\n",
       "    }\n",
       "</style>\n",
       "<table border=\"1\" class=\"dataframe\">\n",
       "  <thead>\n",
       "    <tr style=\"text-align: right;\">\n",
       "      <th>Ticker</th>\n",
       "      <th>META</th>\n",
       "      <th>TSLA</th>\n",
       "    </tr>\n",
       "    <tr>\n",
       "      <th>Date</th>\n",
       "      <th></th>\n",
       "      <th></th>\n",
       "    </tr>\n",
       "  </thead>\n",
       "  <tbody>\n",
       "    <tr>\n",
       "      <th>2016-01-04 00:00:00+00:00</th>\n",
       "      <td>NaN</td>\n",
       "      <td>NaN</td>\n",
       "    </tr>\n",
       "    <tr>\n",
       "      <th>2016-01-05 00:00:00+00:00</th>\n",
       "      <td>0.004989</td>\n",
       "      <td>0.000090</td>\n",
       "    </tr>\n",
       "    <tr>\n",
       "      <th>2016-01-06 00:00:00+00:00</th>\n",
       "      <td>0.002336</td>\n",
       "      <td>-0.019648</td>\n",
       "    </tr>\n",
       "    <tr>\n",
       "      <th>2016-01-07 00:00:00+00:00</th>\n",
       "      <td>-0.049043</td>\n",
       "      <td>-0.015477</td>\n",
       "    </tr>\n",
       "    <tr>\n",
       "      <th>2016-01-08 00:00:00+00:00</th>\n",
       "      <td>-0.006025</td>\n",
       "      <td>-0.021563</td>\n",
       "    </tr>\n",
       "    <tr>\n",
       "      <th>...</th>\n",
       "      <td>...</td>\n",
       "      <td>...</td>\n",
       "    </tr>\n",
       "    <tr>\n",
       "      <th>2025-01-14 00:00:00+00:00</th>\n",
       "      <td>-0.023145</td>\n",
       "      <td>-0.017232</td>\n",
       "    </tr>\n",
       "    <tr>\n",
       "      <th>2025-01-15 00:00:00+00:00</th>\n",
       "      <td>0.038485</td>\n",
       "      <td>0.080382</td>\n",
       "    </tr>\n",
       "    <tr>\n",
       "      <th>2025-01-16 00:00:00+00:00</th>\n",
       "      <td>-0.009431</td>\n",
       "      <td>-0.033628</td>\n",
       "    </tr>\n",
       "    <tr>\n",
       "      <th>2025-01-17 00:00:00+00:00</th>\n",
       "      <td>0.002405</td>\n",
       "      <td>0.030641</td>\n",
       "    </tr>\n",
       "    <tr>\n",
       "      <th>2025-01-21 00:00:00+00:00</th>\n",
       "      <td>0.006022</td>\n",
       "      <td>-0.005698</td>\n",
       "    </tr>\n",
       "  </tbody>\n",
       "</table>\n",
       "<p>2276 rows × 2 columns</p>\n",
       "</div>"
      ],
      "text/plain": [
       "Ticker                         META      TSLA\n",
       "Date                                         \n",
       "2016-01-04 00:00:00+00:00       NaN       NaN\n",
       "2016-01-05 00:00:00+00:00  0.004989  0.000090\n",
       "2016-01-06 00:00:00+00:00  0.002336 -0.019648\n",
       "2016-01-07 00:00:00+00:00 -0.049043 -0.015477\n",
       "2016-01-08 00:00:00+00:00 -0.006025 -0.021563\n",
       "...                             ...       ...\n",
       "2025-01-14 00:00:00+00:00 -0.023145 -0.017232\n",
       "2025-01-15 00:00:00+00:00  0.038485  0.080382\n",
       "2025-01-16 00:00:00+00:00 -0.009431 -0.033628\n",
       "2025-01-17 00:00:00+00:00  0.002405  0.030641\n",
       "2025-01-21 00:00:00+00:00  0.006022 -0.005698\n",
       "\n",
       "[2276 rows x 2 columns]"
      ]
     },
     "execution_count": 39,
     "metadata": {},
     "output_type": "execute_result"
    }
   ],
   "source": [
    "# Compute returns\n",
    "ret = px / px.shift()-1\n",
    "ret"
   ]
  },
  {
   "cell_type": "code",
   "execution_count": 40,
   "metadata": {},
   "outputs": [],
   "source": [
    "#set X and Y. Have to add constant\n",
    "X = ret[['TSLA']]\n",
    "X = sm.add_constant(X)\n",
    "\n",
    "Y = ret['META']"
   ]
  },
  {
   "cell_type": "code",
   "execution_count": 41,
   "metadata": {},
   "outputs": [
    {
     "name": "stdout",
     "output_type": "stream",
     "text": [
      "                           const      TSLA\n",
      "Date                                      \n",
      "2016-01-04 00:00:00+00:00    1.0       NaN\n",
      "2016-01-05 00:00:00+00:00    1.0  0.000090\n",
      "2016-01-06 00:00:00+00:00    1.0 -0.019648\n",
      "2016-01-07 00:00:00+00:00    1.0 -0.015477\n",
      "2016-01-08 00:00:00+00:00    1.0 -0.021563\n",
      "...                          ...       ...\n",
      "2025-01-14 00:00:00+00:00    1.0 -0.017232\n",
      "2025-01-15 00:00:00+00:00    1.0  0.080382\n",
      "2025-01-16 00:00:00+00:00    1.0 -0.033628\n",
      "2025-01-17 00:00:00+00:00    1.0  0.030641\n",
      "2025-01-21 00:00:00+00:00    1.0 -0.005698\n",
      "\n",
      "[2276 rows x 2 columns]\n"
     ]
    }
   ],
   "source": [
    "print(X)"
   ]
  },
  {
   "cell_type": "code",
   "execution_count": 42,
   "metadata": {},
   "outputs": [
    {
     "name": "stdout",
     "output_type": "stream",
     "text": [
      "Date\n",
      "2016-01-04 00:00:00+00:00         NaN\n",
      "2016-01-05 00:00:00+00:00    0.004989\n",
      "2016-01-06 00:00:00+00:00    0.002336\n",
      "2016-01-07 00:00:00+00:00   -0.049043\n",
      "2016-01-08 00:00:00+00:00   -0.006025\n",
      "                               ...   \n",
      "2025-01-14 00:00:00+00:00   -0.023145\n",
      "2025-01-15 00:00:00+00:00    0.038485\n",
      "2025-01-16 00:00:00+00:00   -0.009431\n",
      "2025-01-17 00:00:00+00:00    0.002405\n",
      "2025-01-21 00:00:00+00:00    0.006022\n",
      "Name: META, Length: 2276, dtype: float64\n"
     ]
    }
   ],
   "source": [
    "print(Y)"
   ]
  },
  {
   "cell_type": "code",
   "execution_count": 43,
   "metadata": {},
   "outputs": [],
   "source": [
    "# results = sm.OLS(Y,X).fit()"
   ]
  },
  {
   "cell_type": "code",
   "execution_count": 44,
   "metadata": {},
   "outputs": [
    {
     "data": {
      "text/html": [
       "<div>\n",
       "<style scoped>\n",
       "    .dataframe tbody tr th:only-of-type {\n",
       "        vertical-align: middle;\n",
       "    }\n",
       "\n",
       "    .dataframe tbody tr th {\n",
       "        vertical-align: top;\n",
       "    }\n",
       "\n",
       "    .dataframe thead th {\n",
       "        text-align: right;\n",
       "    }\n",
       "</style>\n",
       "<table border=\"1\" class=\"dataframe\">\n",
       "  <thead>\n",
       "    <tr style=\"text-align: right;\">\n",
       "      <th></th>\n",
       "      <th>const</th>\n",
       "      <th>TSLA</th>\n",
       "    </tr>\n",
       "    <tr>\n",
       "      <th>Date</th>\n",
       "      <th></th>\n",
       "      <th></th>\n",
       "    </tr>\n",
       "  </thead>\n",
       "  <tbody>\n",
       "    <tr>\n",
       "      <th>2016-01-04 00:00:00+00:00</th>\n",
       "      <td>False</td>\n",
       "      <td>True</td>\n",
       "    </tr>\n",
       "    <tr>\n",
       "      <th>2016-01-05 00:00:00+00:00</th>\n",
       "      <td>False</td>\n",
       "      <td>False</td>\n",
       "    </tr>\n",
       "    <tr>\n",
       "      <th>2016-01-06 00:00:00+00:00</th>\n",
       "      <td>False</td>\n",
       "      <td>False</td>\n",
       "    </tr>\n",
       "    <tr>\n",
       "      <th>2016-01-07 00:00:00+00:00</th>\n",
       "      <td>False</td>\n",
       "      <td>False</td>\n",
       "    </tr>\n",
       "    <tr>\n",
       "      <th>2016-01-08 00:00:00+00:00</th>\n",
       "      <td>False</td>\n",
       "      <td>False</td>\n",
       "    </tr>\n",
       "    <tr>\n",
       "      <th>...</th>\n",
       "      <td>...</td>\n",
       "      <td>...</td>\n",
       "    </tr>\n",
       "    <tr>\n",
       "      <th>2025-01-14 00:00:00+00:00</th>\n",
       "      <td>False</td>\n",
       "      <td>False</td>\n",
       "    </tr>\n",
       "    <tr>\n",
       "      <th>2025-01-15 00:00:00+00:00</th>\n",
       "      <td>False</td>\n",
       "      <td>False</td>\n",
       "    </tr>\n",
       "    <tr>\n",
       "      <th>2025-01-16 00:00:00+00:00</th>\n",
       "      <td>False</td>\n",
       "      <td>False</td>\n",
       "    </tr>\n",
       "    <tr>\n",
       "      <th>2025-01-17 00:00:00+00:00</th>\n",
       "      <td>False</td>\n",
       "      <td>False</td>\n",
       "    </tr>\n",
       "    <tr>\n",
       "      <th>2025-01-21 00:00:00+00:00</th>\n",
       "      <td>False</td>\n",
       "      <td>False</td>\n",
       "    </tr>\n",
       "  </tbody>\n",
       "</table>\n",
       "<p>2276 rows × 2 columns</p>\n",
       "</div>"
      ],
      "text/plain": [
       "                           const   TSLA\n",
       "Date                                   \n",
       "2016-01-04 00:00:00+00:00  False   True\n",
       "2016-01-05 00:00:00+00:00  False  False\n",
       "2016-01-06 00:00:00+00:00  False  False\n",
       "2016-01-07 00:00:00+00:00  False  False\n",
       "2016-01-08 00:00:00+00:00  False  False\n",
       "...                          ...    ...\n",
       "2025-01-14 00:00:00+00:00  False  False\n",
       "2025-01-15 00:00:00+00:00  False  False\n",
       "2025-01-16 00:00:00+00:00  False  False\n",
       "2025-01-17 00:00:00+00:00  False  False\n",
       "2025-01-21 00:00:00+00:00  False  False\n",
       "\n",
       "[2276 rows x 2 columns]"
      ]
     },
     "execution_count": 44,
     "metadata": {},
     "output_type": "execute_result"
    }
   ],
   "source": [
    "X.isna()"
   ]
  },
  {
   "cell_type": "code",
   "execution_count": 45,
   "metadata": {},
   "outputs": [
    {
     "data": {
      "text/plain": [
       "Date\n",
       "2016-01-04 00:00:00+00:00     True\n",
       "2016-01-05 00:00:00+00:00    False\n",
       "2016-01-06 00:00:00+00:00    False\n",
       "2016-01-07 00:00:00+00:00    False\n",
       "2016-01-08 00:00:00+00:00    False\n",
       "                             ...  \n",
       "2025-01-14 00:00:00+00:00    False\n",
       "2025-01-15 00:00:00+00:00    False\n",
       "2025-01-16 00:00:00+00:00    False\n",
       "2025-01-17 00:00:00+00:00    False\n",
       "2025-01-21 00:00:00+00:00    False\n",
       "Name: META, Length: 2276, dtype: bool"
      ]
     },
     "execution_count": 45,
     "metadata": {},
     "output_type": "execute_result"
    }
   ],
   "source": [
    "Y.isna()"
   ]
  },
  {
   "cell_type": "code",
   "execution_count": 48,
   "metadata": {},
   "outputs": [],
   "source": [
    "X = X.dropna()\n",
    "Y = Y.dropna()\n",
    "\n",
    "results = sm.OLS(Y,X).fit()"
   ]
  },
  {
   "cell_type": "code",
   "execution_count": 49,
   "metadata": {},
   "outputs": [
    {
     "data": {
      "text/html": [
       "<table class=\"simpletable\">\n",
       "<caption>OLS Regression Results</caption>\n",
       "<tr>\n",
       "  <th>Dep. Variable:</th>          <td>META</td>       <th>  R-squared:         </th>  <td>   0.099</td> \n",
       "</tr>\n",
       "<tr>\n",
       "  <th>Model:</th>                   <td>OLS</td>       <th>  Adj. R-squared:    </th>  <td>   0.099</td> \n",
       "</tr>\n",
       "<tr>\n",
       "  <th>Method:</th>             <td>Least Squares</td>  <th>  F-statistic:       </th>  <td>   249.6</td> \n",
       "</tr>\n",
       "<tr>\n",
       "  <th>Date:</th>             <td>Tue, 21 Jan 2025</td> <th>  Prob (F-statistic):</th>  <td>2.00e-53</td> \n",
       "</tr>\n",
       "<tr>\n",
       "  <th>Time:</th>                 <td>17:56:11</td>     <th>  Log-Likelihood:    </th>  <td>  5349.1</td> \n",
       "</tr>\n",
       "<tr>\n",
       "  <th>No. Observations:</th>      <td>  2275</td>      <th>  AIC:               </th> <td>-1.069e+04</td>\n",
       "</tr>\n",
       "<tr>\n",
       "  <th>Df Residuals:</th>          <td>  2273</td>      <th>  BIC:               </th> <td>-1.068e+04</td>\n",
       "</tr>\n",
       "<tr>\n",
       "  <th>Df Model:</th>              <td>     1</td>      <th>                     </th>      <td> </td>    \n",
       "</tr>\n",
       "<tr>\n",
       "  <th>Covariance Type:</th>      <td>nonrobust</td>    <th>                     </th>      <td> </td>    \n",
       "</tr>\n",
       "</table>\n",
       "<table class=\"simpletable\">\n",
       "<tr>\n",
       "    <td></td>       <th>coef</th>     <th>std err</th>      <th>t</th>      <th>P>|t|</th>  <th>[0.025</th>    <th>0.975]</th>  \n",
       "</tr>\n",
       "<tr>\n",
       "  <th>const</th> <td>    0.0006</td> <td>    0.000</td> <td>    1.333</td> <td> 0.183</td> <td>   -0.000</td> <td>    0.002</td>\n",
       "</tr>\n",
       "<tr>\n",
       "  <th>TSLA</th>  <td>    0.2061</td> <td>    0.013</td> <td>   15.798</td> <td> 0.000</td> <td>    0.180</td> <td>    0.232</td>\n",
       "</tr>\n",
       "</table>\n",
       "<table class=\"simpletable\">\n",
       "<tr>\n",
       "  <th>Omnibus:</th>       <td>653.322</td> <th>  Durbin-Watson:     </th> <td>   2.051</td> \n",
       "</tr>\n",
       "<tr>\n",
       "  <th>Prob(Omnibus):</th> <td> 0.000</td>  <th>  Jarque-Bera (JB):  </th> <td>58854.228</td>\n",
       "</tr>\n",
       "<tr>\n",
       "  <th>Skew:</th>          <td>-0.296</td>  <th>  Prob(JB):          </th> <td>    0.00</td> \n",
       "</tr>\n",
       "<tr>\n",
       "  <th>Kurtosis:</th>      <td>27.910</td>  <th>  Cond. No.          </th> <td>    27.0</td> \n",
       "</tr>\n",
       "</table><br/><br/>Notes:<br/>[1] Standard Errors assume that the covariance matrix of the errors is correctly specified."
      ],
      "text/latex": [
       "\\begin{center}\n",
       "\\begin{tabular}{lclc}\n",
       "\\toprule\n",
       "\\textbf{Dep. Variable:}    &       META       & \\textbf{  R-squared:         } &     0.099   \\\\\n",
       "\\textbf{Model:}            &       OLS        & \\textbf{  Adj. R-squared:    } &     0.099   \\\\\n",
       "\\textbf{Method:}           &  Least Squares   & \\textbf{  F-statistic:       } &     249.6   \\\\\n",
       "\\textbf{Date:}             & Tue, 21 Jan 2025 & \\textbf{  Prob (F-statistic):} &  2.00e-53   \\\\\n",
       "\\textbf{Time:}             &     17:56:11     & \\textbf{  Log-Likelihood:    } &    5349.1   \\\\\n",
       "\\textbf{No. Observations:} &        2275      & \\textbf{  AIC:               } & -1.069e+04  \\\\\n",
       "\\textbf{Df Residuals:}     &        2273      & \\textbf{  BIC:               } & -1.068e+04  \\\\\n",
       "\\textbf{Df Model:}         &           1      & \\textbf{                     } &             \\\\\n",
       "\\textbf{Covariance Type:}  &    nonrobust     & \\textbf{                     } &             \\\\\n",
       "\\bottomrule\n",
       "\\end{tabular}\n",
       "\\begin{tabular}{lcccccc}\n",
       "               & \\textbf{coef} & \\textbf{std err} & \\textbf{t} & \\textbf{P$> |$t$|$} & \\textbf{[0.025} & \\textbf{0.975]}  \\\\\n",
       "\\midrule\n",
       "\\textbf{const} &       0.0006  &        0.000     &     1.333  &         0.183        &       -0.000    &        0.002     \\\\\n",
       "\\textbf{TSLA}  &       0.2061  &        0.013     &    15.798  &         0.000        &        0.180    &        0.232     \\\\\n",
       "\\bottomrule\n",
       "\\end{tabular}\n",
       "\\begin{tabular}{lclc}\n",
       "\\textbf{Omnibus:}       & 653.322 & \\textbf{  Durbin-Watson:     } &     2.051  \\\\\n",
       "\\textbf{Prob(Omnibus):} &   0.000 & \\textbf{  Jarque-Bera (JB):  } & 58854.228  \\\\\n",
       "\\textbf{Skew:}          &  -0.296 & \\textbf{  Prob(JB):          } &      0.00  \\\\\n",
       "\\textbf{Kurtosis:}      &  27.910 & \\textbf{  Cond. No.          } &      27.0  \\\\\n",
       "\\bottomrule\n",
       "\\end{tabular}\n",
       "%\\caption{OLS Regression Results}\n",
       "\\end{center}\n",
       "\n",
       "Notes: \\newline\n",
       " [1] Standard Errors assume that the covariance matrix of the errors is correctly specified."
      ],
      "text/plain": [
       "<class 'statsmodels.iolib.summary.Summary'>\n",
       "\"\"\"\n",
       "                            OLS Regression Results                            \n",
       "==============================================================================\n",
       "Dep. Variable:                   META   R-squared:                       0.099\n",
       "Model:                            OLS   Adj. R-squared:                  0.099\n",
       "Method:                 Least Squares   F-statistic:                     249.6\n",
       "Date:                Tue, 21 Jan 2025   Prob (F-statistic):           2.00e-53\n",
       "Time:                        17:56:11   Log-Likelihood:                 5349.1\n",
       "No. Observations:                2275   AIC:                        -1.069e+04\n",
       "Df Residuals:                    2273   BIC:                        -1.068e+04\n",
       "Df Model:                           1                                         \n",
       "Covariance Type:            nonrobust                                         \n",
       "==============================================================================\n",
       "                 coef    std err          t      P>|t|      [0.025      0.975]\n",
       "------------------------------------------------------------------------------\n",
       "const          0.0006      0.000      1.333      0.183      -0.000       0.002\n",
       "TSLA           0.2061      0.013     15.798      0.000       0.180       0.232\n",
       "==============================================================================\n",
       "Omnibus:                      653.322   Durbin-Watson:                   2.051\n",
       "Prob(Omnibus):                  0.000   Jarque-Bera (JB):            58854.228\n",
       "Skew:                          -0.296   Prob(JB):                         0.00\n",
       "Kurtosis:                      27.910   Cond. No.                         27.0\n",
       "==============================================================================\n",
       "\n",
       "Notes:\n",
       "[1] Standard Errors assume that the covariance matrix of the errors is correctly specified.\n",
       "\"\"\""
      ]
     },
     "execution_count": 49,
     "metadata": {},
     "output_type": "execute_result"
    }
   ],
   "source": [
    "results.summary()"
   ]
  },
  {
   "cell_type": "code",
   "execution_count": 50,
   "metadata": {},
   "outputs": [
    {
     "data": {
      "text/plain": [
       "const    0.000646\n",
       "TSLA     0.206053\n",
       "dtype: float64"
      ]
     },
     "execution_count": 50,
     "metadata": {},
     "output_type": "execute_result"
    }
   ],
   "source": [
    "results.params"
   ]
  },
  {
   "cell_type": "code",
   "execution_count": 52,
   "metadata": {},
   "outputs": [
    {
     "data": {
      "text/plain": [
       "const     1.333349\n",
       "TSLA     15.798394\n",
       "dtype: float64"
      ]
     },
     "execution_count": 52,
     "metadata": {},
     "output_type": "execute_result"
    }
   ],
   "source": [
    "results.tvalues"
   ]
  },
  {
   "cell_type": "markdown",
   "metadata": {},
   "source": [
    "Reconstruct FB\n",
    "\n",
    "- FB<sub>t</sub> ~ $\\beta$ * TSLA<sub>t</sub> + $\\alpha$ + e<sub>t</sub>"
   ]
  },
  {
   "cell_type": "code",
   "execution_count": 55,
   "metadata": {},
   "outputs": [],
   "source": [
    "FB = results.params['TSLA']*X['TSLA'] + results.params['const'] + results.resid"
   ]
  },
  {
   "cell_type": "code",
   "execution_count": 58,
   "metadata": {},
   "outputs": [
    {
     "data": {
      "text/plain": [
       "np.float64(5.221517662690189e-16)"
      ]
     },
     "execution_count": 58,
     "metadata": {},
     "output_type": "execute_result"
    }
   ],
   "source": [
    "(FB-Y).abs().sum()"
   ]
  },
  {
   "cell_type": "code",
   "execution_count": 60,
   "metadata": {},
   "outputs": [],
   "source": [
    "beta_contr = results.params['TSLA']*X['TSLA']\n",
    "prediction = results.params['TSLA']*X['TSLA'] + results.params['const']\n",
    "alpha_contr = results.params['const'] + results.resid"
   ]
  },
  {
   "cell_type": "code",
   "execution_count": 61,
   "metadata": {},
   "outputs": [
    {
     "data": {
      "text/plain": [
       "Date\n",
       "2016-01-05 00:00:00+00:00    0.004971\n",
       "2016-01-06 00:00:00+00:00    0.006385\n",
       "2016-01-07 00:00:00+00:00   -0.045854\n",
       "2016-01-08 00:00:00+00:00   -0.001582\n",
       "2016-01-11 00:00:00+00:00    0.004926\n",
       "                               ...   \n",
       "2025-01-14 00:00:00+00:00   -0.019595\n",
       "2025-01-15 00:00:00+00:00    0.021923\n",
       "2025-01-16 00:00:00+00:00   -0.002502\n",
       "2025-01-17 00:00:00+00:00   -0.003909\n",
       "2025-01-21 00:00:00+00:00    0.007196\n",
       "Length: 2275, dtype: float64"
      ]
     },
     "execution_count": 61,
     "metadata": {},
     "output_type": "execute_result"
    }
   ],
   "source": [
    "alpha_contr"
   ]
  },
  {
   "cell_type": "code",
   "execution_count": 63,
   "metadata": {},
   "outputs": [
    {
     "data": {
      "text/plain": [
       "<Axes: xlabel='Date'>"
      ]
     },
     "execution_count": 63,
     "metadata": {},
     "output_type": "execute_result"
    },
    {
     "data": {
      "image/png": "[encoded data removed]",
      "text/plain": [
       "<Figure size 640x480 with 1 Axes>"
      ]
     },
     "metadata": {},
     "output_type": "display_data"
    }
   ],
   "source": [
    "alpha_contr.cumsum().plot()"
   ]
  },
  {
   "cell_type": "code",
   "execution_count": 64,
   "metadata": {},
   "outputs": [
    {
     "data": {
      "text/plain": [
       "np.float64(1.3773011205120762e-16)"
      ]
     },
     "execution_count": 64,
     "metadata": {},
     "output_type": "execute_result"
    }
   ],
   "source": [
    "alpha_contr.corr(X['TSLA'])"
   ]
  },
  {
   "cell_type": "code",
   "execution_count": 65,
   "metadata": {},
   "outputs": [
    {
     "data": {
      "text/plain": [
       "np.float64(0.0006456540852150004)"
      ]
     },
     "execution_count": 65,
     "metadata": {},
     "output_type": "execute_result"
    }
   ],
   "source": [
    "alpha_contr.mean()"
   ]
  },
  {
   "cell_type": "code",
   "execution_count": 67,
   "metadata": {},
   "outputs": [
    {
     "data": {
      "text/plain": [
       "np.float64(1.3333486429625172)"
      ]
     },
     "execution_count": 67,
     "metadata": {},
     "output_type": "execute_result"
    }
   ],
   "source": [
    "results.tvalues['const']"
   ]
  },
  {
   "cell_type": "code",
   "execution_count": null,
   "metadata": {},
   "outputs": [],
   "source": []
  }
 ],
 "metadata": {
  "kernelspec": {
   "display_name": "Python 3",
   "language": "python",
   "name": "python3"
  },
  "language_info": {
   "codemirror_mode": {
    "name": "ipython",
    "version": 3
   },
   "file_extension": ".py",
   "mimetype": "text/x-python",
   "name": "python",
   "nbconvert_exporter": "python",
   "pygments_lexer": "ipython3",
   "version": "3.12.6"
  }
 },
 "nbformat": 4,
 "nbformat_minor": 2
}

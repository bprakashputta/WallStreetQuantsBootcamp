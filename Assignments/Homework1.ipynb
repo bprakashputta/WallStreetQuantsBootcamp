{
 "cells": [
  {
   "cell_type": "markdown",
   "id": "38d7926d",
   "metadata": {},
   "source": [
    "# Homework 1\n",
    "This homework provides practical finance applications of the python concepts learned in this module. Note that for most of these problems, there will be better solutions using pandas which we will learn. However, they are still useful for practicing and learning Python fundamentals.\n",
    "\n",
    "Solutions will be released next class."
   ]
  },
  {
   "cell_type": "markdown",
   "id": "76205f94",
   "metadata": {},
   "source": [
    "## Problem 1 -  Computing Dollar Profits\n",
    "\n",
    "- The \"pos\" dictionary below represents the dollars initially invested in each ticker. The \"ret\" dictionary represents the returns of each ticker\n",
    "- Please complete the function \"compute_profit\"\n",
    "- compute_profit takes as input \"pos\" and \"ret\" and should return a new dictionary that maps each ticker to the total dollar profit of that ticker (=ticker's return x dollars invested in ticker)"
   ]
  },
  {
   "cell_type": "code",
   "execution_count": 23,
   "id": "509d1e58",
   "metadata": {},
   "outputs": [
    {
     "name": "stdout",
     "output_type": "stream",
     "text": [
      "1000\n",
      "500\n",
      "-250\n",
      "1200\n"
     ]
    },
    {
     "data": {
      "text/plain": [
       "{'AAPL': -10.0, 'TSLA': 25.0, 'BAC': -2.5, 'GS': 36.0}"
      ]
     },
     "execution_count": 23,
     "metadata": {},
     "output_type": "execute_result"
    }
   ],
   "source": [
    "pos = {'AAPL':1000,'TSLA':500,'BAC':-250,'GS':1200}\n",
    "ret = {'AAPL':-0.01,'TSLA':0.05,'BAC':0.01,'GS':0.03}\n",
    "\n",
    "def compute_profit(pos,ret):\n",
    "    profit={}\n",
    "    # fill out the body here\n",
    "    # return a dict profit with keys=tickers and values=dollar profits\n",
    "    for key in pos:\n",
    "        print(pos[key])\n",
    "        # profit[key] = pos[key] - (pos[key] * ret[key])\n",
    "        profit[key] = (pos[key] * ret[key])\n",
    "        \n",
    "\n",
    "    return profit\n",
    "\n",
    "compute_profit(pos, ret)"
   ]
  },
  {
   "cell_type": "markdown",
   "id": "573d1dd6",
   "metadata": {},
   "source": [
    "## Problem 2 - Performance Stats\n",
    "- \"rets\" variable below is a list containing randomly generated, hypothetical daily returns\n",
    "- Please complete the function \"compute_stats\"\n",
    "- compute_stats takes as input rets and returns a new dictionary containing performance stats with (key:values) as specified below\n",
    "    1. \"avg\": average daily return\n",
    "    2. \"hit_rate\": percent of returns which are positive\n",
    "    3. \"max_ret\": max daily return"
   ]
  },
  {
   "cell_type": "code",
   "execution_count": 3,
   "id": "0c2d8344",
   "metadata": {},
   "outputs": [],
   "source": [
    "# Generate random returns. \n",
    "# Don't worry about how to generate these for now.\n",
    "import numpy as np \n",
    "np.random.seed(2)\n",
    "rets = list(np.random.normal(0, 0.1/np.sqrt(252), 252))"
   ]
  },
  {
   "cell_type": "code",
   "execution_count": 7,
   "id": "4a8d8e26",
   "metadata": {},
   "outputs": [
    {
     "data": {
      "text/plain": [
       "{'avg': -0.00012053243427670072,\n",
       " 'hit_rate': 0.49206349206349204,\n",
       " 'max_ret': 0.025882330705223864}"
      ]
     },
     "execution_count": 7,
     "metadata": {},
     "output_type": "execute_result"
    }
   ],
   "source": [
    "def compute_stats(rets):\n",
    "    stats = {}\n",
    "    # fill out the body here\n",
    "    # return a dict stats with keys avg, hit_rate and max_ret\n",
    "    stats[\"avg\"] = np.average(rets)\n",
    "    stats[\"hit_rate\"] = np.sum(np.array(rets) > 0, axis=0)/len(rets)\n",
    "    stats[\"max_ret\"] = np.max(rets)\n",
    "    return stats\n",
    "\n",
    "compute_stats(rets)"
   ]
  },
  {
   "cell_type": "markdown",
   "id": "dca0dae2",
   "metadata": {},
   "source": [
    "## Problem 3 - Signal Analysis\n",
    "- \"rets\" variable below is a list containing randomly generated, hypothetical daily returns\n",
    "- \"signal\" variable below represents a daily hypothetical signal that could be predictive of \"rets\"\n",
    "- Please complete the function \"analyze_signal\"\n",
    "- analyze_signal takes as input rets and signal and returns a new dictionary with (key:values) as specified below\n",
    "    1. \"pos_ret\": average daily return when the signal is > 1\n",
    "    2. \"neg_ret\": average daily return when the signal is < -1\n",
    "    3. \"spread\":pos_ret - neg_ret\n",
    "   \n",
    "Hint: Look up and use the python \"range\" function"
   ]
  },
  {
   "cell_type": "code",
   "execution_count": 10,
   "id": "116dc54e",
   "metadata": {},
   "outputs": [],
   "source": [
    "# Generate random returns and a signal.\n",
    "# Don't worry about how to generate these for now.\n",
    "import numpy as np \n",
    "np.random.seed(2)\n",
    "rets = list(np.random.normal(0, 0.1/np.sqrt(252), 252))\n",
    "signal = list(np.random.normal(0,1,252))"
   ]
  },
  {
   "cell_type": "code",
   "execution_count": 22,
   "id": "3957eb67",
   "metadata": {},
   "outputs": [
    {
     "data": {
      "text/plain": [
       "{'pos_ret': -0.0006927951396076218,\n",
       " 'neg_ret': -0.0007529717813923455,\n",
       " 'spread': 6.017664178472378e-05}"
      ]
     },
     "execution_count": 22,
     "metadata": {},
     "output_type": "execute_result"
    }
   ],
   "source": [
    "def analyze_signal(rets,signal):\n",
    "    analysis = {}\n",
    "    # fill out the body here\n",
    "    # return the analysis dict with keys pos_ret, neg_ret, spread\n",
    "    pos_ret = 0\n",
    "    pos_ct = 0\n",
    "    neg_ret = 0\n",
    "    neg_ct = 0\n",
    "    for i in range(0, len(rets)):\n",
    "        if signal[i] > 1:\n",
    "            pos_ret += rets[i]\n",
    "            pos_ct += 1\n",
    "        elif signal[i] < -1:\n",
    "            neg_ret += rets[i]\n",
    "            neg_ct += 1\n",
    "\n",
    "    analysis[\"pos_ret\"] = pos_ret/(pos_ct)\n",
    "    analysis[\"neg_ret\"] = neg_ret/(neg_ct)\n",
    "    analysis[\"spread\"] = analysis['pos_ret'] - analysis['neg_ret']\n",
    "\n",
    "    return analysis\n",
    "\n",
    "analyze_signal(rets, signal)"
   ]
  },
  {
   "cell_type": "code",
   "execution_count": null,
   "id": "0fb9fb94",
   "metadata": {},
   "outputs": [],
   "source": []
  }
 ],
 "metadata": {
  "kernelspec": {
   "display_name": "Python 3",
   "language": "python",
   "name": "python3"
  },
  "language_info": {
   "codemirror_mode": {
    "name": "ipython",
    "version": 3
   },
   "file_extension": ".py",
   "mimetype": "text/x-python",
   "name": "python",
   "nbconvert_exporter": "python",
   "pygments_lexer": "ipython3",
   "version": "3.11.7"
  }
 },
 "nbformat": 4,
 "nbformat_minor": 5
}

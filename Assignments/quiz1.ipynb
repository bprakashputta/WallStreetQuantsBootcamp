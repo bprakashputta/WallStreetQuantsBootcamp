{
 "cells": [
  {
   "cell_type": "code",
   "execution_count": null,
   "metadata": {},
   "outputs": [],
   "source": [
    "def get_excess_ret(ret,bmark,beta=1.0):\n",
    "    return ret - beta*bmark\n",
    "\n",
    "print (get_excess_ret(0.03))"
   ]
  }
 ],
 "metadata": {
  "language_info": {
   "name": "python"
  }
 },
 "nbformat": 4,
 "nbformat_minor": 2
}
